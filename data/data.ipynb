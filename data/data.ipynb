{
 "cells": [
  {
   "cell_type": "code",
   "execution_count": 1,
   "id": "f51ecdd4-8a00-4843-8cb5-e10da7d0ce3d",
   "metadata": {},
   "outputs": [],
   "source": [
    "import pandas as pd\n",
    "import numpy as np\n",
    "import random as rd"
   ]
  },
  {
   "cell_type": "code",
   "execution_count": 2,
   "id": "00a14a74-a55e-4cc7-8deb-2d71082f95ea",
   "metadata": {},
   "outputs": [
    {
     "name": "stderr",
     "output_type": "stream",
     "text": [
      "/tmp/ipykernel_98014/3025330690.py:1: DtypeWarning: Columns (20) have mixed types. Specify dtype option on import or set low_memory=False.\n",
      "  df = pd.read_csv(\"house-details.csv\")\n"
     ]
    }
   ],
   "source": [
    "df = pd.read_csv(\"house-details.csv\")"
   ]
  },
  {
   "cell_type": "code",
   "execution_count": 3,
   "id": "e94ad63a-2529-429e-b43e-27ee04c733db",
   "metadata": {},
   "outputs": [],
   "source": [
    "df = df[[\"ST_NUM\", \"ROOF_STRUCTURE\"]].dropna()"
   ]
  },
  {
   "cell_type": "code",
   "execution_count": 4,
   "id": "29d571aa-be84-4d5d-8d05-692d9aac6dfa",
   "metadata": {},
   "outputs": [],
   "source": [
    "df = df.sample(n = 1200) # CHANGE THIS FOR MORE AGENTS"
   ]
  },
  {
   "cell_type": "code",
   "execution_count": 5,
   "id": "a108fc28-a91b-41e3-99bb-b13c33fc3063",
   "metadata": {},
   "outputs": [],
   "source": [
    "df.loc[df[\"ROOF_STRUCTURE\"] == \"F - Flat\", 'capacity'] = 9160 if rd.randint(0, 10) < 4 else 0\n",
    "df.loc[df[\"ROOF_STRUCTURE\"] == \"H - Hip\", 'capacity'] = 8750 if rd.randint(0, 10) < 5 else 0\n",
    "df.loc[df[\"ROOF_STRUCTURE\"] == \"M - Mansard\", 'capacity'] = 7230 if rd.randint(0, 10) < 4 else 0\n",
    "df.loc[df[\"ROOF_STRUCTURE\"] == \"G - Gable\", 'capacity'] = 6450 if rd.randint(0, 10) < 5 else 0\n",
    "df.loc[df[\"ROOF_STRUCTURE\"] == \"L - Gambrel\", 'capacity'] = 0\n",
    "df.loc[df[\"ROOF_STRUCTURE\"] == \"S - Shed\", 'capacity'] = 0\n",
    "df.loc[df[\"ROOF_STRUCTURE\"] == \"O - Other\", 'capacity'] = 0"
   ]
  },
  {
   "cell_type": "code",
   "execution_count": 6,
   "id": "ccd5151f-8607-4bef-a7ba-97a92fb8c5a1",
   "metadata": {},
   "outputs": [],
   "source": [
    "df[\"street_num\"] = df[\"ST_NUM\"]\n",
    "df = df.drop([\"ST_NUM\", \"ROOF_STRUCTURE\"], axis = 1)"
   ]
  },
  {
   "cell_type": "code",
   "execution_count": 7,
   "id": "511d5c6b-4d0f-4fdf-887b-f76bb3a58fdd",
   "metadata": {},
   "outputs": [
    {
     "data": {
      "text/html": [
       "<div>\n",
       "<style scoped>\n",
       "    .dataframe tbody tr th:only-of-type {\n",
       "        vertical-align: middle;\n",
       "    }\n",
       "\n",
       "    .dataframe tbody tr th {\n",
       "        vertical-align: top;\n",
       "    }\n",
       "\n",
       "    .dataframe thead th {\n",
       "        text-align: right;\n",
       "    }\n",
       "</style>\n",
       "<table border=\"1\" class=\"dataframe\">\n",
       "  <thead>\n",
       "    <tr style=\"text-align: right;\">\n",
       "      <th></th>\n",
       "      <th>capacity</th>\n",
       "      <th>street_num</th>\n",
       "    </tr>\n",
       "  </thead>\n",
       "  <tbody>\n",
       "    <tr>\n",
       "      <th>154863</th>\n",
       "      <td>0.0</td>\n",
       "      <td>48.0</td>\n",
       "    </tr>\n",
       "    <tr>\n",
       "      <th>53535</th>\n",
       "      <td>0.0</td>\n",
       "      <td>411.0</td>\n",
       "    </tr>\n",
       "    <tr>\n",
       "      <th>87890</th>\n",
       "      <td>0.0</td>\n",
       "      <td>126.0</td>\n",
       "    </tr>\n",
       "    <tr>\n",
       "      <th>60563</th>\n",
       "      <td>0.0</td>\n",
       "      <td>289.0</td>\n",
       "    </tr>\n",
       "    <tr>\n",
       "      <th>117854</th>\n",
       "      <td>0.0</td>\n",
       "      <td>43.0</td>\n",
       "    </tr>\n",
       "    <tr>\n",
       "      <th>...</th>\n",
       "      <td>...</td>\n",
       "      <td>...</td>\n",
       "    </tr>\n",
       "    <tr>\n",
       "      <th>128351</th>\n",
       "      <td>0.0</td>\n",
       "      <td>15.0</td>\n",
       "    </tr>\n",
       "    <tr>\n",
       "      <th>57575</th>\n",
       "      <td>0.0</td>\n",
       "      <td>48.0</td>\n",
       "    </tr>\n",
       "    <tr>\n",
       "      <th>11026</th>\n",
       "      <td>7230.0</td>\n",
       "      <td>30.0</td>\n",
       "    </tr>\n",
       "    <tr>\n",
       "      <th>56775</th>\n",
       "      <td>0.0</td>\n",
       "      <td>9.0</td>\n",
       "    </tr>\n",
       "    <tr>\n",
       "      <th>70519</th>\n",
       "      <td>7230.0</td>\n",
       "      <td>9.0</td>\n",
       "    </tr>\n",
       "  </tbody>\n",
       "</table>\n",
       "<p>1200 rows × 2 columns</p>\n",
       "</div>"
      ],
      "text/plain": [
       "        capacity  street_num\n",
       "154863       0.0        48.0\n",
       "53535        0.0       411.0\n",
       "87890        0.0       126.0\n",
       "60563        0.0       289.0\n",
       "117854       0.0        43.0\n",
       "...          ...         ...\n",
       "128351       0.0        15.0\n",
       "57575        0.0        48.0\n",
       "11026     7230.0        30.0\n",
       "56775        0.0         9.0\n",
       "70519     7230.0         9.0\n",
       "\n",
       "[1200 rows x 2 columns]"
      ]
     },
     "execution_count": 7,
     "metadata": {},
     "output_type": "execute_result"
    }
   ],
   "source": [
    "df"
   ]
  },
  {
   "cell_type": "code",
   "execution_count": 8,
   "id": "228bc7fb-11c4-4cd8-bdb3-9f1307364aa1",
   "metadata": {},
   "outputs": [
    {
     "data": {
      "text/html": [
       "<div>\n",
       "<style scoped>\n",
       "    .dataframe tbody tr th:only-of-type {\n",
       "        vertical-align: middle;\n",
       "    }\n",
       "\n",
       "    .dataframe tbody tr th {\n",
       "        vertical-align: top;\n",
       "    }\n",
       "\n",
       "    .dataframe thead th {\n",
       "        text-align: right;\n",
       "    }\n",
       "</style>\n",
       "<table border=\"1\" class=\"dataframe\">\n",
       "  <thead>\n",
       "    <tr style=\"text-align: right;\">\n",
       "      <th></th>\n",
       "      <th>capacity</th>\n",
       "      <th>street_num</th>\n",
       "    </tr>\n",
       "  </thead>\n",
       "  <tbody>\n",
       "    <tr>\n",
       "      <th>154863</th>\n",
       "      <td>0.0</td>\n",
       "      <td>48.0</td>\n",
       "    </tr>\n",
       "    <tr>\n",
       "      <th>53535</th>\n",
       "      <td>0.0</td>\n",
       "      <td>411.0</td>\n",
       "    </tr>\n",
       "    <tr>\n",
       "      <th>87890</th>\n",
       "      <td>0.0</td>\n",
       "      <td>126.0</td>\n",
       "    </tr>\n",
       "    <tr>\n",
       "      <th>60563</th>\n",
       "      <td>0.0</td>\n",
       "      <td>289.0</td>\n",
       "    </tr>\n",
       "    <tr>\n",
       "      <th>117854</th>\n",
       "      <td>0.0</td>\n",
       "      <td>43.0</td>\n",
       "    </tr>\n",
       "    <tr>\n",
       "      <th>...</th>\n",
       "      <td>...</td>\n",
       "      <td>...</td>\n",
       "    </tr>\n",
       "    <tr>\n",
       "      <th>132683</th>\n",
       "      <td>0.0</td>\n",
       "      <td>57.0</td>\n",
       "    </tr>\n",
       "    <tr>\n",
       "      <th>86081</th>\n",
       "      <td>0.0</td>\n",
       "      <td>226.0</td>\n",
       "    </tr>\n",
       "    <tr>\n",
       "      <th>128351</th>\n",
       "      <td>0.0</td>\n",
       "      <td>15.0</td>\n",
       "    </tr>\n",
       "    <tr>\n",
       "      <th>57575</th>\n",
       "      <td>0.0</td>\n",
       "      <td>48.0</td>\n",
       "    </tr>\n",
       "    <tr>\n",
       "      <th>56775</th>\n",
       "      <td>0.0</td>\n",
       "      <td>9.0</td>\n",
       "    </tr>\n",
       "  </tbody>\n",
       "</table>\n",
       "<p>1087 rows × 2 columns</p>\n",
       "</div>"
      ],
      "text/plain": [
       "        capacity  street_num\n",
       "154863       0.0        48.0\n",
       "53535        0.0       411.0\n",
       "87890        0.0       126.0\n",
       "60563        0.0       289.0\n",
       "117854       0.0        43.0\n",
       "...          ...         ...\n",
       "132683       0.0        57.0\n",
       "86081        0.0       226.0\n",
       "128351       0.0        15.0\n",
       "57575        0.0        48.0\n",
       "56775        0.0         9.0\n",
       "\n",
       "[1087 rows x 2 columns]"
      ]
     },
     "execution_count": 8,
     "metadata": {},
     "output_type": "execute_result"
    }
   ],
   "source": [
    "df[df[\"capacity\"] == 0] # NUMBER OF BAPS"
   ]
  },
  {
   "cell_type": "code",
   "execution_count": 9,
   "id": "86f78680-d7a2-49f8-8350-7efed37c3d1e",
   "metadata": {},
   "outputs": [],
   "source": [
    "bpp = df[df[\"capacity\"] != 0].reset_index()\n",
    "bpp = bpp.drop(\"index\", axis = 1)"
   ]
  },
  {
   "cell_type": "code",
   "execution_count": 10,
   "id": "8c0303f2-4bcb-4caa-94fe-a25e13f1193d",
   "metadata": {},
   "outputs": [],
   "source": [
    "bpp[:100][\"street_num\"].to_csv(\"bpp-pos.csv\") # CHANGE THE :100 BASED ON TOTAL - NUMBER OF BAP\n",
    "bpp[:100][\"capacity\"].to_csv(\"bpp-cap.csv\") # IN THIS LINE TOO"
   ]
  },
  {
   "cell_type": "code",
   "execution_count": 11,
   "id": "0fd66cc5-7d71-4af7-8fb7-970328c5909e",
   "metadata": {},
   "outputs": [],
   "source": [
    "bap = df[df[\"capacity\"] == 0].reset_index()\n",
    "bap = bap.drop([\"index\", \"capacity\"], axis = 1)"
   ]
  },
  {
   "cell_type": "code",
   "execution_count": 12,
   "id": "fcb11eba-a6db-48f1-b3d7-19bf3d60ecf8",
   "metadata": {},
   "outputs": [],
   "source": [
    "bap[:900][\"street_num\"].to_csv(\"bap-pos.csv\") # CHANGE THIS TO NUMBER OF BAP"
   ]
  },
  {
   "cell_type": "code",
   "execution_count": null,
   "id": "4fde0187-a407-4a73-a041-e4326528b14d",
   "metadata": {},
   "outputs": [],
   "source": [
    "# REMEMBER TO CHANGE THE NUMBER OF BAPS AND BPPS IN CONFIG.YAML TOO"
   ]
  },
  {
   "cell_type": "code",
   "execution_count": null,
   "id": "41e95a20-07c4-4a9d-a9ae-e548f895f163",
   "metadata": {},
   "outputs": [],
   "source": []
  }
 ],
 "metadata": {
  "kernelspec": {
   "display_name": "Python 3 (ipykernel)",
   "language": "python",
   "name": "python3"
  },
  "language_info": {
   "codemirror_mode": {
    "name": "ipython",
    "version": 3
   },
   "file_extension": ".py",
   "mimetype": "text/x-python",
   "name": "python",
   "nbconvert_exporter": "python",
   "pygments_lexer": "ipython3",
   "version": "3.9.18"
  }
 },
 "nbformat": 4,
 "nbformat_minor": 5
}
