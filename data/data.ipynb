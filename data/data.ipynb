{
 "cells": [
  {
   "cell_type": "code",
   "execution_count": 196,
   "id": "f51ecdd4-8a00-4843-8cb5-e10da7d0ce3d",
   "metadata": {},
   "outputs": [],
   "source": [
    "import pandas as pd\n",
    "import numpy as np\n",
    "import random as rd"
   ]
  },
  {
   "cell_type": "code",
   "execution_count": 197,
   "id": "00a14a74-a55e-4cc7-8deb-2d71082f95ea",
   "metadata": {},
   "outputs": [
    {
     "name": "stderr",
     "output_type": "stream",
     "text": [
      "/tmp/ipykernel_119873/3025330690.py:1: DtypeWarning: Columns (20) have mixed types. Specify dtype option on import or set low_memory=False.\n",
      "  df = pd.read_csv(\"house-details.csv\")\n"
     ]
    }
   ],
   "source": [
    "df = pd.read_csv(\"house-details.csv\")"
   ]
  },
  {
   "cell_type": "code",
   "execution_count": 198,
   "id": "e94ad63a-2529-429e-b43e-27ee04c733db",
   "metadata": {},
   "outputs": [],
   "source": [
    "df = df[[\"ST_NUM\", \"ROOF_STRUCTURE\"]].dropna()"
   ]
  },
  {
   "cell_type": "code",
   "execution_count": 199,
   "id": "29d571aa-be84-4d5d-8d05-692d9aac6dfa",
   "metadata": {},
   "outputs": [],
   "source": [
    "df = df.sample(n = 120)"
   ]
  },
  {
   "cell_type": "code",
   "execution_count": 200,
   "id": "a108fc28-a91b-41e3-99bb-b13c33fc3063",
   "metadata": {},
   "outputs": [],
   "source": [
    "df.loc[df[\"ROOF_STRUCTURE\"] == \"F - Flat\", 'capacity'] = 916000 if rd.randint(0, 10) < 4 else 0\n",
    "df.loc[df[\"ROOF_STRUCTURE\"] == \"H - Hip\", 'capacity'] = 875000 if rd.randint(0, 10) < 5 else 0\n",
    "df.loc[df[\"ROOF_STRUCTURE\"] == \"M - Mansard\", 'capacity'] = 723000 if rd.randint(0, 10) < 4 else 0\n",
    "df.loc[df[\"ROOF_STRUCTURE\"] == \"G - Gable\", 'capacity'] = 645000 if rd.randint(0, 10) < 5 else 0\n",
    "df.loc[df[\"ROOF_STRUCTURE\"] == \"L - Gambrel\", 'capacity'] = 0\n",
    "df.loc[df[\"ROOF_STRUCTURE\"] == \"S - Shed\", 'capacity'] = 0\n",
    "df.loc[df[\"ROOF_STRUCTURE\"] == \"O - Other\", 'capacity'] = 0"
   ]
  },
  {
   "cell_type": "code",
   "execution_count": 201,
   "id": "ccd5151f-8607-4bef-a7ba-97a92fb8c5a1",
   "metadata": {},
   "outputs": [],
   "source": [
    "df[\"street_num\"] = df[\"ST_NUM\"]\n",
    "df = df.drop([\"ST_NUM\", \"ROOF_STRUCTURE\"], axis = 1)"
   ]
  },
  {
   "cell_type": "code",
   "execution_count": 202,
   "id": "511d5c6b-4d0f-4fdf-887b-f76bb3a58fdd",
   "metadata": {},
   "outputs": [
    {
     "data": {
      "text/html": [
       "<div>\n",
       "<style scoped>\n",
       "    .dataframe tbody tr th:only-of-type {\n",
       "        vertical-align: middle;\n",
       "    }\n",
       "\n",
       "    .dataframe tbody tr th {\n",
       "        vertical-align: top;\n",
       "    }\n",
       "\n",
       "    .dataframe thead th {\n",
       "        text-align: right;\n",
       "    }\n",
       "</style>\n",
       "<table border=\"1\" class=\"dataframe\">\n",
       "  <thead>\n",
       "    <tr style=\"text-align: right;\">\n",
       "      <th></th>\n",
       "      <th>capacity</th>\n",
       "      <th>street_num</th>\n",
       "    </tr>\n",
       "  </thead>\n",
       "  <tbody>\n",
       "    <tr>\n",
       "      <th>177871</th>\n",
       "      <td>645000.0</td>\n",
       "      <td>43.0</td>\n",
       "    </tr>\n",
       "    <tr>\n",
       "      <th>144536</th>\n",
       "      <td>0.0</td>\n",
       "      <td>3.0</td>\n",
       "    </tr>\n",
       "    <tr>\n",
       "      <th>167950</th>\n",
       "      <td>0.0</td>\n",
       "      <td>85.0</td>\n",
       "    </tr>\n",
       "    <tr>\n",
       "      <th>153643</th>\n",
       "      <td>645000.0</td>\n",
       "      <td>165.0</td>\n",
       "    </tr>\n",
       "    <tr>\n",
       "      <th>15335</th>\n",
       "      <td>645000.0</td>\n",
       "      <td>22.0</td>\n",
       "    </tr>\n",
       "    <tr>\n",
       "      <th>...</th>\n",
       "      <td>...</td>\n",
       "      <td>...</td>\n",
       "    </tr>\n",
       "    <tr>\n",
       "      <th>151241</th>\n",
       "      <td>0.0</td>\n",
       "      <td>226.0</td>\n",
       "    </tr>\n",
       "    <tr>\n",
       "      <th>3289</th>\n",
       "      <td>0.0</td>\n",
       "      <td>80.0</td>\n",
       "    </tr>\n",
       "    <tr>\n",
       "      <th>164860</th>\n",
       "      <td>0.0</td>\n",
       "      <td>14.0</td>\n",
       "    </tr>\n",
       "    <tr>\n",
       "      <th>19419</th>\n",
       "      <td>0.0</td>\n",
       "      <td>9.0</td>\n",
       "    </tr>\n",
       "    <tr>\n",
       "      <th>110737</th>\n",
       "      <td>0.0</td>\n",
       "      <td>26.0</td>\n",
       "    </tr>\n",
       "  </tbody>\n",
       "</table>\n",
       "<p>120 rows × 2 columns</p>\n",
       "</div>"
      ],
      "text/plain": [
       "        capacity  street_num\n",
       "177871  645000.0        43.0\n",
       "144536       0.0         3.0\n",
       "167950       0.0        85.0\n",
       "153643  645000.0       165.0\n",
       "15335   645000.0        22.0\n",
       "...          ...         ...\n",
       "151241       0.0       226.0\n",
       "3289         0.0        80.0\n",
       "164860       0.0        14.0\n",
       "19419        0.0         9.0\n",
       "110737       0.0        26.0\n",
       "\n",
       "[120 rows x 2 columns]"
      ]
     },
     "execution_count": 202,
     "metadata": {},
     "output_type": "execute_result"
    }
   ],
   "source": [
    "df"
   ]
  },
  {
   "cell_type": "code",
   "execution_count": 203,
   "id": "228bc7fb-11c4-4cd8-bdb3-9f1307364aa1",
   "metadata": {},
   "outputs": [
    {
     "data": {
      "text/html": [
       "<div>\n",
       "<style scoped>\n",
       "    .dataframe tbody tr th:only-of-type {\n",
       "        vertical-align: middle;\n",
       "    }\n",
       "\n",
       "    .dataframe tbody tr th {\n",
       "        vertical-align: top;\n",
       "    }\n",
       "\n",
       "    .dataframe thead th {\n",
       "        text-align: right;\n",
       "    }\n",
       "</style>\n",
       "<table border=\"1\" class=\"dataframe\">\n",
       "  <thead>\n",
       "    <tr style=\"text-align: right;\">\n",
       "      <th></th>\n",
       "      <th>capacity</th>\n",
       "      <th>street_num</th>\n",
       "    </tr>\n",
       "  </thead>\n",
       "  <tbody>\n",
       "    <tr>\n",
       "      <th>144536</th>\n",
       "      <td>0.0</td>\n",
       "      <td>3.0</td>\n",
       "    </tr>\n",
       "    <tr>\n",
       "      <th>167950</th>\n",
       "      <td>0.0</td>\n",
       "      <td>85.0</td>\n",
       "    </tr>\n",
       "    <tr>\n",
       "      <th>68285</th>\n",
       "      <td>0.0</td>\n",
       "      <td>147.0</td>\n",
       "    </tr>\n",
       "    <tr>\n",
       "      <th>172003</th>\n",
       "      <td>0.0</td>\n",
       "      <td>22.0</td>\n",
       "    </tr>\n",
       "    <tr>\n",
       "      <th>84043</th>\n",
       "      <td>0.0</td>\n",
       "      <td>390.0</td>\n",
       "    </tr>\n",
       "    <tr>\n",
       "      <th>...</th>\n",
       "      <td>...</td>\n",
       "      <td>...</td>\n",
       "    </tr>\n",
       "    <tr>\n",
       "      <th>151241</th>\n",
       "      <td>0.0</td>\n",
       "      <td>226.0</td>\n",
       "    </tr>\n",
       "    <tr>\n",
       "      <th>3289</th>\n",
       "      <td>0.0</td>\n",
       "      <td>80.0</td>\n",
       "    </tr>\n",
       "    <tr>\n",
       "      <th>164860</th>\n",
       "      <td>0.0</td>\n",
       "      <td>14.0</td>\n",
       "    </tr>\n",
       "    <tr>\n",
       "      <th>19419</th>\n",
       "      <td>0.0</td>\n",
       "      <td>9.0</td>\n",
       "    </tr>\n",
       "    <tr>\n",
       "      <th>110737</th>\n",
       "      <td>0.0</td>\n",
       "      <td>26.0</td>\n",
       "    </tr>\n",
       "  </tbody>\n",
       "</table>\n",
       "<p>67 rows × 2 columns</p>\n",
       "</div>"
      ],
      "text/plain": [
       "        capacity  street_num\n",
       "144536       0.0         3.0\n",
       "167950       0.0        85.0\n",
       "68285        0.0       147.0\n",
       "172003       0.0        22.0\n",
       "84043        0.0       390.0\n",
       "...          ...         ...\n",
       "151241       0.0       226.0\n",
       "3289         0.0        80.0\n",
       "164860       0.0        14.0\n",
       "19419        0.0         9.0\n",
       "110737       0.0        26.0\n",
       "\n",
       "[67 rows x 2 columns]"
      ]
     },
     "execution_count": 203,
     "metadata": {},
     "output_type": "execute_result"
    }
   ],
   "source": [
    "df[df[\"capacity\"] == 0]"
   ]
  },
  {
   "cell_type": "code",
   "execution_count": 221,
   "id": "86f78680-d7a2-49f8-8350-7efed37c3d1e",
   "metadata": {},
   "outputs": [],
   "source": [
    "bpp = df[df[\"capacity\"] != 0].reset_index()\n",
    "bpp = bpp.drop(\"index\", axis = 1)"
   ]
  },
  {
   "cell_type": "code",
   "execution_count": 222,
   "id": "8c0303f2-4bcb-4caa-94fe-a25e13f1193d",
   "metadata": {},
   "outputs": [],
   "source": [
    "bpp[:40].to_csv(\"bpp.csv\")"
   ]
  },
  {
   "cell_type": "code",
   "execution_count": 223,
   "id": "0fd66cc5-7d71-4af7-8fb7-970328c5909e",
   "metadata": {},
   "outputs": [],
   "source": [
    "bap = df[df[\"capacity\"] == 0].reset_index()\n",
    "bap = bap.drop([\"index\", \"capacity\"], axis = 1)"
   ]
  },
  {
   "cell_type": "code",
   "execution_count": 224,
   "id": "fcb11eba-a6db-48f1-b3d7-19bf3d60ecf8",
   "metadata": {},
   "outputs": [],
   "source": [
    "bap[:60].to_csv(\"bap.csv\")"
   ]
  },
  {
   "cell_type": "code",
   "execution_count": null,
   "id": "4fde0187-a407-4a73-a041-e4326528b14d",
   "metadata": {},
   "outputs": [],
   "source": []
  }
 ],
 "metadata": {
  "kernelspec": {
   "display_name": "Python 3 (ipykernel)",
   "language": "python",
   "name": "python3"
  },
  "language_info": {
   "codemirror_mode": {
    "name": "ipython",
    "version": 3
   },
   "file_extension": ".py",
   "mimetype": "text/x-python",
   "name": "python",
   "nbconvert_exporter": "python",
   "pygments_lexer": "ipython3",
   "version": "3.9.18"
  }
 },
 "nbformat": 4,
 "nbformat_minor": 5
}
