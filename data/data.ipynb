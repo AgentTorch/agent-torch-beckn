{
 "cells": [
  {
   "cell_type": "code",
   "execution_count": 85,
   "id": "f51ecdd4-8a00-4843-8cb5-e10da7d0ce3d",
   "metadata": {},
   "outputs": [],
   "source": [
    "import pandas as pd\n",
    "import numpy as np\n",
    "import random as rd"
   ]
  },
  {
   "cell_type": "code",
   "execution_count": 86,
   "id": "00a14a74-a55e-4cc7-8deb-2d71082f95ea",
   "metadata": {},
   "outputs": [
    {
     "name": "stderr",
     "output_type": "stream",
     "text": [
      "/tmp/ipykernel_150050/3025330690.py:1: DtypeWarning: Columns (20) have mixed types. Specify dtype option on import or set low_memory=False.\n",
      "  df = pd.read_csv(\"house-details.csv\")\n"
     ]
    }
   ],
   "source": [
    "df = pd.read_csv(\"house-details.csv\")"
   ]
  },
  {
   "cell_type": "code",
   "execution_count": 87,
   "id": "e94ad63a-2529-429e-b43e-27ee04c733db",
   "metadata": {},
   "outputs": [],
   "source": [
    "df = df[[\"ST_NUM\", \"ROOF_STRUCTURE\", \"TOTAL_VALUE\"]].dropna()"
   ]
  },
  {
   "cell_type": "code",
   "execution_count": 88,
   "id": "a108fc28-a91b-41e3-99bb-b13c33fc3063",
   "metadata": {},
   "outputs": [
    {
     "data": {
      "text/html": [
       "<div>\n",
       "<style scoped>\n",
       "    .dataframe tbody tr th:only-of-type {\n",
       "        vertical-align: middle;\n",
       "    }\n",
       "\n",
       "    .dataframe tbody tr th {\n",
       "        vertical-align: top;\n",
       "    }\n",
       "\n",
       "    .dataframe thead th {\n",
       "        text-align: right;\n",
       "    }\n",
       "</style>\n",
       "<table border=\"1\" class=\"dataframe\">\n",
       "  <thead>\n",
       "    <tr style=\"text-align: right;\">\n",
       "      <th></th>\n",
       "      <th>ST_NUM</th>\n",
       "      <th>ROOF_STRUCTURE</th>\n",
       "      <th>TOTAL_VALUE</th>\n",
       "      <th>capacity</th>\n",
       "    </tr>\n",
       "  </thead>\n",
       "  <tbody>\n",
       "    <tr>\n",
       "      <th>0</th>\n",
       "      <td>104.0</td>\n",
       "      <td>F - Flat</td>\n",
       "      <td>792,000</td>\n",
       "      <td>1529.0</td>\n",
       "    </tr>\n",
       "    <tr>\n",
       "      <th>1</th>\n",
       "      <td>197.0</td>\n",
       "      <td>F - Flat</td>\n",
       "      <td>818,200</td>\n",
       "      <td>1529.0</td>\n",
       "    </tr>\n",
       "    <tr>\n",
       "      <th>2</th>\n",
       "      <td>199.0</td>\n",
       "      <td>F - Flat</td>\n",
       "      <td>804,400</td>\n",
       "      <td>1529.0</td>\n",
       "    </tr>\n",
       "    <tr>\n",
       "      <th>3</th>\n",
       "      <td>201.0</td>\n",
       "      <td>M - Mansard</td>\n",
       "      <td>735,300</td>\n",
       "      <td>16.0</td>\n",
       "    </tr>\n",
       "    <tr>\n",
       "      <th>4</th>\n",
       "      <td>203.0</td>\n",
       "      <td>M - Mansard</td>\n",
       "      <td>731,600</td>\n",
       "      <td>16.0</td>\n",
       "    </tr>\n",
       "    <tr>\n",
       "      <th>...</th>\n",
       "      <td>...</td>\n",
       "      <td>...</td>\n",
       "      <td>...</td>\n",
       "      <td>...</td>\n",
       "    </tr>\n",
       "    <tr>\n",
       "      <th>182233</th>\n",
       "      <td>18.0</td>\n",
       "      <td>L - Gambrel</td>\n",
       "      <td>1,115,300</td>\n",
       "      <td>24.0</td>\n",
       "    </tr>\n",
       "    <tr>\n",
       "      <th>182234</th>\n",
       "      <td>14.0</td>\n",
       "      <td>H - Hip</td>\n",
       "      <td>0</td>\n",
       "      <td>277.0</td>\n",
       "    </tr>\n",
       "    <tr>\n",
       "      <th>182235</th>\n",
       "      <td>14.0</td>\n",
       "      <td>H - Hip</td>\n",
       "      <td>545,100</td>\n",
       "      <td>277.0</td>\n",
       "    </tr>\n",
       "    <tr>\n",
       "      <th>182236</th>\n",
       "      <td>12.0</td>\n",
       "      <td>H - Hip</td>\n",
       "      <td>494,800</td>\n",
       "      <td>277.0</td>\n",
       "    </tr>\n",
       "    <tr>\n",
       "      <th>182239</th>\n",
       "      <td>4.0</td>\n",
       "      <td>L - Gambrel</td>\n",
       "      <td>1,314,900</td>\n",
       "      <td>24.0</td>\n",
       "    </tr>\n",
       "  </tbody>\n",
       "</table>\n",
       "<p>145737 rows × 4 columns</p>\n",
       "</div>"
      ],
      "text/plain": [
       "        ST_NUM ROOF_STRUCTURE TOTAL_VALUE  capacity\n",
       "0        104.0       F - Flat     792,000    1529.0\n",
       "1        197.0       F - Flat     818,200    1529.0\n",
       "2        199.0       F - Flat     804,400    1529.0\n",
       "3        201.0    M - Mansard     735,300      16.0\n",
       "4        203.0    M - Mansard     731,600      16.0\n",
       "...        ...            ...         ...       ...\n",
       "182233    18.0    L - Gambrel   1,115,300      24.0\n",
       "182234    14.0        H - Hip           0     277.0\n",
       "182235    14.0        H - Hip     545,100     277.0\n",
       "182236    12.0        H - Hip     494,800     277.0\n",
       "182239     4.0    L - Gambrel   1,314,900      24.0\n",
       "\n",
       "[145737 rows x 4 columns]"
      ]
     },
     "execution_count": 88,
     "metadata": {},
     "output_type": "execute_result"
    }
   ],
   "source": [
    "df.loc[df[\"ROOF_STRUCTURE\"] == \"F - Flat\", 'capacity'] = 1529\n",
    "df.loc[df[\"ROOF_STRUCTURE\"] == \"H - Hip\", 'capacity'] = 277\n",
    "df.loc[df[\"ROOF_STRUCTURE\"] == \"M - Mansard\", 'capacity'] = 16\n",
    "df.loc[df[\"ROOF_STRUCTURE\"] == \"G - Gable\", 'capacity'] = 173\n",
    "df.loc[df[\"ROOF_STRUCTURE\"] == \"L - Gambrel\", 'capacity'] = 24\n",
    "df.loc[df[\"ROOF_STRUCTURE\"] == \"S - Shed\", 'capacity'] = 119\n",
    "df.loc[df[\"ROOF_STRUCTURE\"] == \"O - Other\", 'capacity'] = 42\n",
    "\n",
    "df"
   ]
  },
  {
   "cell_type": "code",
   "execution_count": 89,
   "id": "ccd5151f-8607-4bef-a7ba-97a92fb8c5a1",
   "metadata": {},
   "outputs": [],
   "source": [
    "df[\"street_num\"] = df[\"ST_NUM\"]\n",
    "df = df.drop([\"ST_NUM\", \"ROOF_STRUCTURE\"], axis = 1)"
   ]
  },
  {
   "cell_type": "code",
   "execution_count": 90,
   "id": "dc539e8e-6e60-424f-aa08-267e523e1c1a",
   "metadata": {},
   "outputs": [
    {
     "data": {
      "text/html": [
       "<div>\n",
       "<style scoped>\n",
       "    .dataframe tbody tr th:only-of-type {\n",
       "        vertical-align: middle;\n",
       "    }\n",
       "\n",
       "    .dataframe tbody tr th {\n",
       "        vertical-align: top;\n",
       "    }\n",
       "\n",
       "    .dataframe thead th {\n",
       "        text-align: right;\n",
       "    }\n",
       "</style>\n",
       "<table border=\"1\" class=\"dataframe\">\n",
       "  <thead>\n",
       "    <tr style=\"text-align: right;\">\n",
       "      <th></th>\n",
       "      <th>TOTAL_VALUE</th>\n",
       "      <th>capacity</th>\n",
       "      <th>street_num</th>\n",
       "      <th>income_bucket</th>\n",
       "    </tr>\n",
       "  </thead>\n",
       "  <tbody>\n",
       "    <tr>\n",
       "      <th>0</th>\n",
       "      <td>792</td>\n",
       "      <td>1529.0</td>\n",
       "      <td>104.0</td>\n",
       "      <td>1000</td>\n",
       "    </tr>\n",
       "    <tr>\n",
       "      <th>1</th>\n",
       "      <td>818</td>\n",
       "      <td>1529.0</td>\n",
       "      <td>197.0</td>\n",
       "      <td>1000</td>\n",
       "    </tr>\n",
       "    <tr>\n",
       "      <th>2</th>\n",
       "      <td>804</td>\n",
       "      <td>1529.0</td>\n",
       "      <td>199.0</td>\n",
       "      <td>1000</td>\n",
       "    </tr>\n",
       "    <tr>\n",
       "      <th>3</th>\n",
       "      <td>735</td>\n",
       "      <td>16.0</td>\n",
       "      <td>201.0</td>\n",
       "      <td>1000</td>\n",
       "    </tr>\n",
       "    <tr>\n",
       "      <th>4</th>\n",
       "      <td>731</td>\n",
       "      <td>16.0</td>\n",
       "      <td>203.0</td>\n",
       "      <td>1000</td>\n",
       "    </tr>\n",
       "    <tr>\n",
       "      <th>...</th>\n",
       "      <td>...</td>\n",
       "      <td>...</td>\n",
       "      <td>...</td>\n",
       "      <td>...</td>\n",
       "    </tr>\n",
       "    <tr>\n",
       "      <th>182233</th>\n",
       "      <td>1115</td>\n",
       "      <td>24.0</td>\n",
       "      <td>18.0</td>\n",
       "      <td>2000</td>\n",
       "    </tr>\n",
       "    <tr>\n",
       "      <th>182234</th>\n",
       "      <td>0</td>\n",
       "      <td>277.0</td>\n",
       "      <td>14.0</td>\n",
       "      <td>NaN</td>\n",
       "    </tr>\n",
       "    <tr>\n",
       "      <th>182235</th>\n",
       "      <td>545</td>\n",
       "      <td>277.0</td>\n",
       "      <td>14.0</td>\n",
       "      <td>1000</td>\n",
       "    </tr>\n",
       "    <tr>\n",
       "      <th>182236</th>\n",
       "      <td>494</td>\n",
       "      <td>277.0</td>\n",
       "      <td>12.0</td>\n",
       "      <td>1000</td>\n",
       "    </tr>\n",
       "    <tr>\n",
       "      <th>182239</th>\n",
       "      <td>1314</td>\n",
       "      <td>24.0</td>\n",
       "      <td>4.0</td>\n",
       "      <td>2000</td>\n",
       "    </tr>\n",
       "  </tbody>\n",
       "</table>\n",
       "<p>145737 rows × 4 columns</p>\n",
       "</div>"
      ],
      "text/plain": [
       "        TOTAL_VALUE  capacity  street_num income_bucket\n",
       "0               792    1529.0       104.0          1000\n",
       "1               818    1529.0       197.0          1000\n",
       "2               804    1529.0       199.0          1000\n",
       "3               735      16.0       201.0          1000\n",
       "4               731      16.0       203.0          1000\n",
       "...             ...       ...         ...           ...\n",
       "182233         1115      24.0        18.0          2000\n",
       "182234            0     277.0        14.0           NaN\n",
       "182235          545     277.0        14.0          1000\n",
       "182236          494     277.0        12.0          1000\n",
       "182239         1314      24.0         4.0          2000\n",
       "\n",
       "[145737 rows x 4 columns]"
      ]
     },
     "execution_count": 90,
     "metadata": {},
     "output_type": "execute_result"
    }
   ],
   "source": [
    "df[\"TOTAL_VALUE\"] = df[\"TOTAL_VALUE\"].str.replace(',', '').astype(int)\n",
    "df[\"TOTAL_VALUE\"] = df[\"TOTAL_VALUE\"] // 1000\n",
    "\n",
    "buckets = [k * 1000 for k in range(0, 50)]\n",
    "labels = [k * 1000 for k in range(1, 50)]\n",
    "df[\"income_bucket\"] = pd.cut(df[\"TOTAL_VALUE\"], bins = buckets, labels = labels)\n",
    "\n",
    "df"
   ]
  },
  {
   "cell_type": "code",
   "execution_count": 91,
   "id": "511d5c6b-4d0f-4fdf-887b-f76bb3a58fdd",
   "metadata": {},
   "outputs": [],
   "source": [
    "df = df.drop(\"TOTAL_VALUE\", axis = 1)\n",
    "df = df.dropna()"
   ]
  },
  {
   "cell_type": "code",
   "execution_count": null,
   "id": "d26b56d6-1f68-4f78-a539-e626f777bcc3",
   "metadata": {},
   "outputs": [],
   "source": []
  },
  {
   "cell_type": "code",
   "execution_count": 92,
   "id": "228bc7fb-11c4-4cd8-bdb3-9f1307364aa1",
   "metadata": {},
   "outputs": [],
   "source": [
    "bpps = df.sample(frac = 0.3)\n",
    "baps = df.drop(bpps.index)"
   ]
  },
  {
   "cell_type": "code",
   "execution_count": 93,
   "id": "3c428c1b-c6fa-4674-a1de-0e8343152b11",
   "metadata": {},
   "outputs": [],
   "source": [
    "bpps[\"street_num\"].astype(int).to_csv(\"bpp-pos.csv\", index=False)\n",
    "bpps[\"capacity\"].astype(int).to_csv(\"bpp-cap.csv\", index=False)"
   ]
  },
  {
   "cell_type": "code",
   "execution_count": 94,
   "id": "0fcad40b-fd0b-4112-be4a-ff42f2fae606",
   "metadata": {},
   "outputs": [],
   "source": [
    "baps[\"street_num\"].astype(int).to_csv(\"bap-pos.csv\", index=False)\n",
    "baps[\"income_bucket\"].astype(int).to_csv(\"bap-inc.csv\", index=False)"
   ]
  },
  {
   "cell_type": "code",
   "execution_count": null,
   "id": "8548ac5a-0b54-4b77-bef7-5a7c82912031",
   "metadata": {},
   "outputs": [],
   "source": []
  },
  {
   "cell_type": "code",
   "execution_count": 99,
   "id": "c77785e8-e1e8-40cc-a25e-b7a3a7a0cfd7",
   "metadata": {},
   "outputs": [
    {
     "data": {
      "text/plain": [
       "count    573859.000000\n",
       "mean        719.902296\n",
       "std        4331.557536\n",
       "min       -2392.600000\n",
       "25%          29.495000\n",
       "50%          78.130000\n",
       "75%         233.520000\n",
       "max      299998.370000\n",
       "Name: TotalCost, dtype: float64"
      ]
     },
     "execution_count": 99,
     "metadata": {},
     "output_type": "execute_result"
    }
   ],
   "source": [
    "df2 = pd.read_csv(\"utility-bills.csv\")\n",
    "\n",
    "df2[df2[\"EnergyTypeName\"] == \"Electric\"][\"TotalCost\"].describe()"
   ]
  },
  {
   "cell_type": "code",
   "execution_count": null,
   "id": "c7889f32-afb4-466c-9280-9befd4386be2",
   "metadata": {},
   "outputs": [],
   "source": []
  }
 ],
 "metadata": {
  "kernelspec": {
   "display_name": "Python 3 (ipykernel)",
   "language": "python",
   "name": "python3"
  },
  "language_info": {
   "codemirror_mode": {
    "name": "ipython",
    "version": 3
   },
   "file_extension": ".py",
   "mimetype": "text/x-python",
   "name": "python",
   "nbconvert_exporter": "python",
   "pygments_lexer": "ipython3",
   "version": "3.9.18"
  }
 },
 "nbformat": 4,
 "nbformat_minor": 5
}
