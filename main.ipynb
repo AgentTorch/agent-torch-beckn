{
 "cells": [
  {
   "cell_type": "code",
   "execution_count": null,
   "id": "3b48f0b4-c50d-4c80-8f03-e3ea2cfe4c76",
   "metadata": {},
   "outputs": [],
   "source": [
    "# main.py\n",
    "# runs the simulation, and generates plots to visualize it\n",
    "\n",
    "import pandas as pd\n",
    "import numpy as np\n",
    "import matplotlib.pyplot as plt\n",
    "%matplotlib inline\n",
    "\n",
    "import seaborn as sns\n",
    "import geopandas as gpd\n",
    "from tqdm import trange, tqdm\n",
    "\n",
    "from agent_torch.core import Registry, Runner\n",
    "from agent_torch.core.helpers import read_config, read_from_file\n",
    "from substeps import *\n",
    "from helpers import *"
   ]
  },
  {
   "cell_type": "code",
   "execution_count": null,
   "id": "d862210c-c68c-4e49-9f91-b914e1de8b79",
   "metadata": {},
   "outputs": [],
   "source": [
    "# get a geo plot of all the streets in boston\n",
    "gdf = gpd.read_file('data/simulator/boston-streets.geojson')\n",
    "gdf = gdf[[\"STREET_ID\", \"geometry\"]]\n",
    "gdf[\"street\"] = gdf[\"STREET_ID\"]\n",
    "gdf = gdf.drop(\"STREET_ID\", axis = 1)"
   ]
  },
  {
   "cell_type": "code",
   "execution_count": null,
   "id": "1b8a85bf-6fdf-4c55-a670-6fbe9882574e",
   "metadata": {},
   "outputs": [],
   "source": [
    "# setup the simulation based on the configuration\n",
    "config = read_config(\"./config.yaml\")\n",
    "metadata = config.get(\"simulation_metadata\")\n",
    "num_episodes = metadata.get(\"num_episodes\")\n",
    "num_steps_per_episode = metadata.get(\"num_steps_per_episode\")\n",
    "visualize = metadata.get(\"visualize\")\n",
    "\n",
    "registry = Registry()\n",
    "registry.register(read_from_file, \"read_from_file\", \"initialization\")\n",
    "\n",
    "runner = Runner(config, registry)\n",
    "runner.init()"
   ]
  },
  {
   "cell_type": "code",
   "execution_count": null,
   "id": "75c23f40-0a3d-45bb-ba7c-0d19455dcdb6",
   "metadata": {
    "scrolled": true
   },
   "outputs": [],
   "source": [
    "# run the simulation for the given number of steps\n",
    "\n",
    "dfs = []\n",
    "images = []\n",
    "runner.reset()\n",
    "for step in trange(num_steps_per_episode, desc=f\":: running simulation\"):\n",
    "    runner.step(1)\n",
    "\n",
    "    # store the data of solar cost incurred, so we can plot it\n",
    "    # and compare it to grid costs later\n",
    "    x = np.array(runner.state[\"agents\"][\"bap\"][\"position\"]).flatten().astype(int)\n",
    "    y = np.array(runner.state[\"agents\"][\"bap\"][\"wallet\"]).flatten()\n",
    "\n",
    "    # create a dataframe for easy plotting\n",
    "    df = pd.DataFrame(np.array((x, y)).T, columns = [\"street\", \"X\"])\n",
    "    dfs.append(df)"
   ]
  },
  {
   "cell_type": "code",
   "execution_count": null,
   "id": "07dc0f10-34bf-4c65-a005-e144c0d0325e",
   "metadata": {},
   "outputs": [],
   "source": [
    "# generate the plots for each iteration, and then compile those\n",
    "# plots into a gif\n",
    "\n",
    "for i, df in enumerate(tqdm(dfs, desc=f\":: generating plots\")):\n",
    "    plot = gdf.plot(figsize = (16, 16), color = \"gray\")\n",
    "    mdf = gdf.merge(df, on = \"street\")\n",
    "    mdf.plot(column = \"X\", cmap=\"OrRd_r\", figsize = (16, 16), ax = plot)\n",
    "\n",
    "    plt.savefig(f\"plots/step-{i}.jpg\")\n",
    "    images.append(f\"plots/step-{i}.jpg\")\n",
    "\n",
    "frames = [imageio.imread(f\"plots/step-{i}.jpg\") for i in range(0, 20)]\n",
    "imageio.mimsave(f\"solar-usage.gif\", frames, fps=2)"
   ]
  },
  {
   "cell_type": "code",
   "execution_count": null,
   "id": "5d729c5b-e829-47d3-99e0-479129f1e5ab",
   "metadata": {},
   "outputs": [],
   "source": []
  }
 ],
 "metadata": {
  "kernelspec": {
   "display_name": "Python 3 (ipykernel)",
   "language": "python",
   "name": "python3"
  },
  "language_info": {
   "codemirror_mode": {
    "name": "ipython",
    "version": 3
   },
   "file_extension": ".py",
   "mimetype": "text/x-python",
   "name": "python",
   "nbconvert_exporter": "python",
   "pygments_lexer": "ipython3",
   "version": "3.9.18"
  }
 },
 "nbformat": 4,
 "nbformat_minor": 5
}
