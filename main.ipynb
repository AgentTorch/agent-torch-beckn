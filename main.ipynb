{
 "cells": [
  {
   "cell_type": "code",
   "execution_count": 1,
   "id": "3b48f0b4-c50d-4c80-8f03-e3ea2cfe4c76",
   "metadata": {},
   "outputs": [],
   "source": [
    "# main.py\n",
    "# runs the simulation\n",
    "\n",
    "import pandas as pd\n",
    "import numpy as np\n",
    "import matplotlib.pyplot as plt\n",
    "%matplotlib inline\n",
    "\n",
    "import seaborn as sns\n",
    "import geopandas as gpd\n",
    "from tqdm import trange\n",
    "\n",
    "from agent_torch.core import Registry, Runner\n",
    "from agent_torch.core.helpers import read_config, read_from_file\n",
    "from substeps import *\n",
    "from helpers import *"
   ]
  },
  {
   "cell_type": "code",
   "execution_count": 2,
   "id": "d862210c-c68c-4e49-9f91-b914e1de8b79",
   "metadata": {},
   "outputs": [],
   "source": [
    "config = read_config(\"./config.yaml\")\n",
    "metadata = config.get(\"simulation_metadata\")\n",
    "num_episodes = metadata.get(\"num_episodes\")\n",
    "num_steps_per_episode = metadata.get(\"num_steps_per_episode\")\n",
    "visualize = metadata.get(\"visualize\")"
   ]
  },
  {
   "cell_type": "code",
   "execution_count": 3,
   "id": "1b8a85bf-6fdf-4c55-a670-6fbe9882574e",
   "metadata": {},
   "outputs": [],
   "source": [
    "registry = Registry()\n",
    "registry.register(read_from_file, \"read_from_file\", \"initialization\")\n",
    "\n",
    "runner = Runner(config, registry)\n",
    "runner.init()"
   ]
  },
  {
   "cell_type": "code",
   "execution_count": null,
   "id": "75c23f40-0a3d-45bb-ba7c-0d19455dcdb6",
   "metadata": {
    "scrolled": true
   },
   "outputs": [],
   "source": [
    "for episode in range(num_episodes):\n",
    "    runner.reset()\n",
    "\n",
    "    for step in range(num_steps_per_episode):\n",
    "        runner.step(1)\n",
    "\n",
    "        plt.xticks(rotation = 90)\n",
    "        plt.figure(figsize=(20,8))\n",
    "        sns.barplot(\n",
    "            x = np.array(runner.state[\"agents\"][\"bap\"][\"id\"]).flatten(),\n",
    "            y = np.array(runner.state[\"agents\"][\"bap\"][\"wallet\"]).flatten(),\n",
    "            width = 20\n",
    "        )"
   ]
  },
  {
   "cell_type": "code",
   "execution_count": null,
   "id": "edcb94fc-06bc-486b-afe0-c73d595a149d",
   "metadata": {},
   "outputs": [],
   "source": []
  }
 ],
 "metadata": {
  "kernelspec": {
   "display_name": "Python 3 (ipykernel)",
   "language": "python",
   "name": "python3"
  },
  "language_info": {
   "codemirror_mode": {
    "name": "ipython",
    "version": 3
   },
   "file_extension": ".py",
   "mimetype": "text/x-python",
   "name": "python",
   "nbconvert_exporter": "python",
   "pygments_lexer": "ipython3",
   "version": "3.9.18"
  }
 },
 "nbformat": 4,
 "nbformat_minor": 5
}
